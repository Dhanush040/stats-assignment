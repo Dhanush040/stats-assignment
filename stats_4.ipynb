{
  "nbformat": 4,
  "nbformat_minor": 0,
  "metadata": {
    "colab": {
      "provenance": []
    },
    "kernelspec": {
      "name": "python3",
      "display_name": "Python 3"
    },
    "language_info": {
      "name": "python"
    }
  },
  "cells": [
    {
      "cell_type": "markdown",
      "source": [
        "Q= Generate a list of 100 integers containing values between 90 to 130 and store it in the variable `int_list`.\n",
        "After generating the list, find the following:\n",
        "\n",
        "  \n",
        "\n",
        "  (i) Write a Python function to calculate the mean of a given list of numbers.\n",
        "\n",
        "Create a function to find the median of a list of numbers.\n",
        "\n",
        "  \n",
        "\n",
        "  (ii) Develop a program to compute the mode of a list of integers.\n",
        "\n",
        "  \n",
        "\n",
        "  (iii) Implement a function to calculate the weighted mean of a list of values and their corresponding weights.\n",
        "\n",
        "  \n",
        "\n",
        "  (iv) Write a Python function to find the geometric mean of a list of positive numbers.\n",
        "\n",
        "  \n",
        "\n",
        "  (v) Create a program to calculate the harmonic mean of a list of values.\n",
        "\n",
        "  \n",
        "\n",
        "  (vi) Build a function to determine the midrange of a list of numbers (average of the minimum and maximum).\n",
        "\n",
        "  \n",
        "\n",
        "  (vii) Implement a Python program to find the trimmed mean of a list, excluding a certain percentage of outliers"
      ],
      "metadata": {
        "id": "FFl30iWWyeqL"
      }
    },
    {
      "cell_type": "code",
      "source": [
        "def calculate_mean(numbers):\n",
        "    \"\"\"Calculates the mean of a list of numbers.\"\"\"\n",
        "    return sum(numbers) / len(numbers)\n",
        "\n",
        "def calculate_median(numbers):\n",
        "    \"\"\"Calculates the median of a list of numbers.\"\"\"\n",
        "    numbers.sort()\n",
        "    n = len(numbers)\n",
        "    if n % 2 == 0:\n",
        "        # Even number of elements, median is average of middle two\n",
        "        mid1 = numbers[n // 2 - 1]\n",
        "        mid2 = numbers[n // 2]\n",
        "        median = (mid1 + mid2) / 2\n",
        "    else:\n",
        "        # Odd number of elements, median is the middle element\n",
        "        median = numbers[n // 2]\n",
        "    return median"
      ],
      "metadata": {
        "id": "KTibjL3wzUXA"
      },
      "execution_count": null,
      "outputs": []
    },
    {
      "cell_type": "code",
      "source": [
        "from collections import Counter\n",
        "\n",
        "def calculate_mode(numbers):\n",
        "    \"\"\"Calculates the mode of a list of integers.\"\"\"\n",
        "    counts = Counter(numbers)\n",
        "    mode = counts.most_common(1)[0][0]\n",
        "    return mode"
      ],
      "metadata": {
        "id": "obsnYCRtzZ9y"
      },
      "execution_count": null,
      "outputs": []
    },
    {
      "cell_type": "code",
      "source": [
        "def calculate_weighted_mean(values, weights):\n",
        "    \"\"\"Calculates the weighted mean of a list of values and weights.\"\"\"\n",
        "    numerator = sum(value * weight for value, weight in zip(values, weights))\n",
        "    denominator = sum(weights)\n",
        "    return numerator / denominator"
      ],
      "metadata": {
        "id": "ZCK_F9gLzsQN"
      },
      "execution_count": null,
      "outputs": []
    },
    {
      "cell_type": "code",
      "source": [
        "import math\n",
        "\n",
        "def calculate_geometric_mean(numbers):\n",
        "    \"\"\"Calculates the geometric mean of a list of positive numbers.\"\"\"\n",
        "    product = math.prod(numbers)\n",
        "    n = len(numbers)\n",
        "    return product ** (1 / n)  # nth root of the product"
      ],
      "metadata": {
        "id": "u8T-S3Yczr5g"
      },
      "execution_count": null,
      "outputs": []
    },
    {
      "cell_type": "code",
      "source": [
        "import statistics\n",
        "\n",
        "def calculate_harmonic_mean(numbers):\n",
        "    \"\"\"Calculates the harmonic mean of a list of values.\"\"\"\n",
        "    return statistics.harmonic_mean(numbers)"
      ],
      "metadata": {
        "id": "vPKmTh43z3fz"
      },
      "execution_count": null,
      "outputs": []
    },
    {
      "cell_type": "code",
      "source": [
        "def calculate_midrange(numbers):\n",
        "    \"\"\"Calculates the midrange of a list of numbers.\"\"\"\n",
        "    minimum = min(numbers)\n",
        "    maximum = max(numbers)\n",
        "    return (minimum + maximum) / 2"
      ],
      "metadata": {
        "id": "FBW7Nd3Oz6tG"
      },
      "execution_count": null,
      "outputs": []
    },
    {
      "cell_type": "code",
      "source": [
        "def calculate_trimmed_mean(numbers, alpha=0.1):\n",
        "    \"\"\"Calculates the trimmed mean of a list, excluding outliers.\"\"\"\n",
        "    numbers.sort()\n",
        "    n = len(numbers)\n",
        "    trim_count = int(alpha * n)  # Number of elements to trim from each end\n",
        "    trimmed_numbers = numbers[trim_count : n - trim_count]\n",
        "    return calculate_mean(trimmed_numbers)  # Use previously defined mean function"
      ],
      "metadata": {
        "id": "NYBzSAwiz9JN"
      },
      "execution_count": null,
      "outputs": []
    },
    {
      "cell_type": "markdown",
      "source": [
        " 2. Generate a list of 500 integers containing values between 200 to 300 and store it in the variable `int_list2`.\n",
        "After generating the list, find the following:\n",
        "\n",
        "\n",
        "  (i) Compare the given list of visualization for the given data:\n",
        "\n",
        "    \n",
        "\n",
        "    1. Frequency & Gaussian distribution\n",
        "\n",
        "    2. Frequency smoothened KDE plot\n",
        "\n",
        "    3. Gaussian distribution & smoothened KDE plot\n",
        "\n",
        "\n",
        "  (ii) Write a Python function to calculate the range of a given list of numbers.\n",
        "\n",
        "\n",
        "  (iii) Create a program to find the variance and standard deviation of a list of numbers.\n",
        "\n",
        "\n",
        "  (iv) Implement a function to compute the interquartile range (IQR) of a list of values.\n",
        "\n",
        "\n",
        "  (v) Build a program to calculate the coefficient of variation for a dataset.\n",
        "\n",
        "  \n",
        "\n",
        "  (vi) Write a Python function to find the mean absolute deviation (MAD) of a list of numbers.\n",
        "\n",
        "\n",
        "  (vii) Create a program to calculate the quartile deviation of a list of values.\n",
        "\n",
        "  \n",
        "\n",
        "  (viii) Implement a function to find the range-based coefficient of dispersion for a dataset"
      ],
      "metadata": {
        "id": "Aw3-3XWV0Afl"
      }
    },
    {
      "cell_type": "code",
      "source": [
        "import random\n",
        "\n",
        "int_list2 = [random.randint(200, 300) for _ in range(500)]"
      ],
      "metadata": {
        "id": "3WNKmjwL0U4B"
      },
      "execution_count": null,
      "outputs": []
    },
    {
      "cell_type": "code",
      "source": [
        "import seaborn as sns\n",
        "import matplotlib.pyplot as plt\n",
        "\n",
        "# 1. Frequency & Gaussian distribution\n",
        "sns.histplot(int_list2, kde=False, label=\"Frequency\")  # Histogram for frequency\n",
        "sns.kdeplot(int_list2, label=\"Gaussian KDE\")  # KDE with Gaussian kernel\n",
        "plt.legend()\n",
        "plt.show()\n",
        "\n",
        "# 2. Frequency smoothened KDE plot\n",
        "sns.histplot(int_list2, kde=True, label=\"Frequency with KDE\")\n",
        "plt.legend()\n",
        "plt.show()\n",
        "\n",
        "# 3. Gaussian distribution & smoothened KDE plot\n",
        "sns.kdeplot(int_list2, label=\"Gaussian KDE\")\n",
        "plt.legend()\n",
        "plt.show()"
      ],
      "metadata": {
        "colab": {
          "base_uri": "https://localhost:8080/",
          "height": 1000
        },
        "id": "TouWWFx70yKp",
        "outputId": "5c633a21-f849-4bc8-95fb-465b2adadd8a"
      },
      "execution_count": null,
      "outputs": [
        {
          "output_type": "display_data",
          "data": {
            "text/plain": [
              "<Figure size 640x480 with 1 Axes>"
            ],
            "image/png": "[encoded data removed]"
          },
          "metadata": {}
        },
        {
          "output_type": "display_data",
          "data": {
            "text/plain": [
              "<Figure size 640x480 with 1 Axes>"
            ],
            "image/png": "[encoded data removed]"
          },
          "metadata": {}
        },
        {
          "output_type": "display_data",
          "data": {
            "text/plain": [
              "<Figure size 640x480 with 1 Axes>"
            ],
            "image/png": "[encoded data removed]"
          },
          "metadata": {}
        }
      ]
    },
    {
      "cell_type": "code",
      "source": [
        "#ii\n",
        "def calculate_range(numbers):\n",
        "    \"\"\"Calculates the range of a list of numbers.\"\"\"\n",
        "    return max(numbers) - min(numbers)"
      ],
      "metadata": {
        "id": "jhJbRoZq00k3"
      },
      "execution_count": null,
      "outputs": []
    },
    {
      "cell_type": "code",
      "source": [
        "#iii\n",
        "import statistics\n",
        "\n",
        "def calculate_variance_and_std(numbers):\n",
        "    \"\"\"Calculates the variance and standard deviation of a list of numbers.\"\"\"\n",
        "    variance = statistics.variance(numbers)\n",
        "    std_dev = statistics.stdev(numbers)\n",
        "    return variance, std_dev"
      ],
      "metadata": {
        "id": "JlkTj6Qj1JwE"
      },
      "execution_count": null,
      "outputs": []
    },
    {
      "cell_type": "code",
      "source": [
        "#iv\n",
        "import numpy as np\n",
        "\n",
        "def calculate_iqr(numbers):\n",
        "    \"\"\"Calculates the interquartile range (IQR) of a list of values.\"\"\"\n",
        "    q1 = np.percentile(numbers, 25)\n",
        "    q3 = np.percentile(numbers, 75)\n",
        "    iqr = q3 - q1\n",
        "    return iqr"
      ],
      "metadata": {
        "id": "ndIRMSUz1mCZ"
      },
      "execution_count": null,
      "outputs": []
    },
    {
      "cell_type": "code",
      "source": [
        "#v\n",
        "import statistics\n",
        "\n",
        "def calculate_coefficient_of_variation(numbers):\n",
        "    \"\"\"Calculates the coefficient of variation for a dataset.\"\"\"\n",
        "    mean = statistics.mean(numbers)\n",
        "    std_dev = statistics.stdev(numbers)\n",
        "    cv = std_dev / mean\n",
        "    return cv"
      ],
      "metadata": {
        "id": "Tm9RhbRg1rPp"
      },
      "execution_count": null,
      "outputs": []
    },
    {
      "cell_type": "code",
      "source": [
        "#vi\n",
        "import statistics\n",
        "\n",
        "def calculate_mad(numbers):\n",
        "    \"\"\"Calculates the mean absolute deviation (MAD) of a list of numbers.\"\"\"\n",
        "    mean = statistics.mean(numbers)\n",
        "    mad = statistics.mean(abs(x - mean) for x in numbers)\n",
        "    return mad"
      ],
      "metadata": {
        "id": "fglw1Lgw10g-"
      },
      "execution_count": null,
      "outputs": []
    },
    {
      "cell_type": "code",
      "source": [
        "#vii\n",
        "import numpy as np\n",
        "\n",
        "def calculate_quartile_deviation(numbers):\n",
        "    \"\"\"Calculates the quartile deviation of a list of values.\"\"\"\n",
        "    q1 = np.percentile(numbers, 25)\n",
        "    q3 = np.percentile(numbers, 75)\n",
        "    qd = (q3 - q1) / 2\n",
        "    return qd"
      ],
      "metadata": {
        "id": "u2E3Q3J_17SG"
      },
      "execution_count": null,
      "outputs": []
    },
    {
      "cell_type": "code",
      "source": [
        "#vii\n",
        "def calculate_range_coefficient_of_dispersion(numbers):\n",
        "    \"\"\"Calculates the range-based coefficient of dispersion for a dataset.\"\"\"\n",
        "    range_val = max(numbers) - min(numbers)\n",
        "    mean = statistics.mean(numbers)\n",
        "    rcd = range_val / mean  # Or (max - min) / (max + min) for an alternative definition\n",
        "    return rcd"
      ],
      "metadata": {
        "id": "UQPKk8p82BoQ"
      },
      "execution_count": null,
      "outputs": []
    },
    {
      "cell_type": "markdown",
      "source": [
        "3)  Write a Python class representing a discrete random variable with methods to calculate its expected\n",
        "value and variance."
      ],
      "metadata": {
        "id": "OhEZ1IT22QpN"
      }
    },
    {
      "cell_type": "code",
      "source": [
        "class DiscreteRandomVariable:\n",
        "    def __init__(self, values, probabilities):\n",
        "        \"\"\"Initializes a discrete random variable.\n",
        "\n",
        "        Args:\n",
        "            values: A list of possible values.\n",
        "            probabilities: A list of corresponding probabilities.\n",
        "        \"\"\"\n",
        "        self.values = values\n",
        "        self.probabilities = probabilities\n",
        "\n",
        "    def expected_value(self):\n",
        "        \"\"\"Calculates the expected value (mean).\"\"\"\n",
        "        return sum(value * probability for value, probability in zip(self.values, self.probabilities))\n",
        "\n",
        "    def variance(self):\n",
        "        \"\"\"Calculates the variance.\"\"\"\n",
        "        mean = self.expected_value()\n",
        "        return sum((value - mean) ** 2 * probability for value, probability in zip(self.values, self.probabilities))"
      ],
      "metadata": {
        "id": "oyjwCVGL2WNh"
      },
      "execution_count": null,
      "outputs": []
    },
    {
      "cell_type": "code",
      "source": [
        "# Create a discrete random variable representing a fair coin toss\n",
        "coin_toss = DiscreteRandomVariable(values=[0, 1], probabilities=[0.5, 0.5])\n",
        "\n",
        "# Calculate the expected value and variance\n",
        "expected_value = coin_toss.expected_value()\n",
        "variance = coin_toss.variance()\n",
        "\n",
        "# Print the results\n",
        "print(f\"Expected Value: {expected_value}\")\n",
        "print(f\"Variance: {variance}\")"
      ],
      "metadata": {
        "colab": {
          "base_uri": "https://localhost:8080/"
        },
        "id": "dhA8RwH52f5F",
        "outputId": "5e716a0c-5549-4f62-8e86-8fb08e2c6c73"
      },
      "execution_count": null,
      "outputs": [
        {
          "output_type": "stream",
          "name": "stdout",
          "text": [
            "Expected Value: 0.5\n",
            "Variance: 0.25\n"
          ]
        }
      ]
    },
    {
      "cell_type": "markdown",
      "source": [
        "4) Implement a program to simulate the rolling of a fair six-sided die and calculate the expected value and\n",
        "variance of the outcomes."
      ],
      "metadata": {
        "id": "0NYSWQ0o2kw4"
      }
    },
    {
      "cell_type": "code",
      "source": [
        "import random\n",
        "\n",
        "def simulate_die_rolls(num_rolls):\n",
        "    \"\"\"Simulates rolling a fair six-sided die and returns the outcomes.\"\"\"\n",
        "    outcomes = [random.randint(1, 6) for _ in range(num_rolls)]\n",
        "    return outcomes\n",
        "\n",
        "def calculate_expected_value(outcomes):\n",
        "    \"\"\"Calculates the expected value of the die roll outcomes.\"\"\"\n",
        "    return sum(outcomes) / len(outcomes)\n",
        "\n",
        "def calculate_variance(outcomes):\n",
        "    \"\"\"Calculates the variance of the die roll outcomes.\"\"\"\n",
        "    mean = calculate_expected_value(outcomes)\n",
        "    variance = sum((outcome - mean) ** 2 for outcome in outcomes) / len(outcomes)\n",
        "    return variance\n",
        "\n",
        "# Simulate 1000 die rolls\n",
        "num_rolls = 1000\n",
        "outcomes = simulate_die_rolls(num_rolls)\n",
        "\n",
        "# Calculate and print the expected value and variance\n",
        "expected_value = calculate_expected_value(outcomes)\n",
        "variance = calculate_variance(outcomes)\n",
        "\n",
        "print(f\"Expected Value: {expected_value}\")\n",
        "print(f\"Variance: {variance}\")"
      ],
      "metadata": {
        "colab": {
          "base_uri": "https://localhost:8080/"
        },
        "id": "DhC9a4Uu2mf1",
        "outputId": "02ebb0c7-8f40-49a4-ada8-9fdf50059fbd"
      },
      "execution_count": null,
      "outputs": [
        {
          "output_type": "stream",
          "name": "stdout",
          "text": [
            "Expected Value: 3.5\n",
            "Variance: 2.898\n"
          ]
        }
      ]
    },
    {
      "cell_type": "markdown",
      "source": [
        "5) Create a Python function to generate random samples from a given probability distribution (e.g.,\n",
        "binomial, Poisson) and calculate their mean and variance."
      ],
      "metadata": {
        "id": "4d_Vmsp02-1F"
      }
    },
    {
      "cell_type": "code",
      "source": [
        "import numpy as np\n",
        "\n",
        "def generate_random_samples(distribution, params, size):\n",
        "    \"\"\"Generates random samples from a given probability distribution.\n",
        "\n",
        "    Args:\n",
        "        distribution: The name of the distribution (e.g., 'binomial', 'poisson').\n",
        "        params: A dictionary of distribution parameters (e.g., {'n': 10, 'p': 0.5} for binomial).\n",
        "        size: The number of samples to generate.\n",
        "\n",
        "    Returns:\n",
        "        A tuple containing the samples, their mean, and variance.\n",
        "    \"\"\"\n",
        "    if distribution == 'binomial':\n",
        "        samples = np.random.binomial(**params, size=size)\n",
        "    elif distribution == 'poisson':\n",
        "        samples = np.random.poisson(**params, size=size)\n",
        "    else:\n",
        "        raise ValueError(\"Unsupported distribution\")\n",
        "\n",
        "    mean = np.mean(samples)\n",
        "    variance = np.var(samples)\n",
        "\n",
        "    return samples, mean, variance\n",
        "\n",
        "# Example usage\n",
        "samples, mean, variance = generate_random_samples(\n",
        "    distribution='binomial', params={'n': 10, 'p': 0.5}, size=1000\n",
        ")\n",
        "\n",
        "print(f\"Samples: {samples[:10]}...\")  # Print first 10 samples\n",
        "print(f\"Mean: {mean}\")\n",
        "print(f\"Variance: {variance}\")"
      ],
      "metadata": {
        "colab": {
          "base_uri": "https://localhost:8080/"
        },
        "id": "vrLJwlv-3DBK",
        "outputId": "036ad158-a3c6-4656-904c-7a76bb1e4daf"
      },
      "execution_count": null,
      "outputs": [
        {
          "output_type": "stream",
          "name": "stdout",
          "text": [
            "Samples: [5 3 4 7 6 2 2 5 7 5]...\n",
            "Mean: 5.026\n",
            "Variance: 2.6033239999999997\n"
          ]
        }
      ]
    },
    {
      "cell_type": "markdown",
      "source": [
        "6) Write a Python script to generate random numbers from a Gaussian (normal) distribution and compute\n",
        "the mean, variance, and standard deviation of the samples."
      ],
      "metadata": {
        "id": "kLlrzMtG3MaR"
      }
    },
    {
      "cell_type": "code",
      "source": [
        "import numpy as np\n",
        "\n",
        "def generate_gaussian_samples(mean, std_dev, size):\n",
        "    \"\"\"Generates random samples from a Gaussian distribution.\n",
        "\n",
        "    Args:\n",
        "        mean: The mean of the distribution.\n",
        "        std_dev: The standard deviation of the distribution.\n",
        "        size: The number of samples to generate.\n",
        "\n",
        "    Returns:\n",
        "        A tuple containing the samples, their mean, variance, and standard deviation.\n",
        "    \"\"\"\n",
        "    samples = np.random.normal(loc=mean, scale=std_dev, size=size)\n",
        "\n",
        "    sample_mean = np.mean(samples)\n",
        "    sample_variance = np.var(samples)\n",
        "    sample_std_dev = np.std(samples)\n",
        "\n",
        "    return samples, sample_mean, sample_variance, sample_std_dev\n",
        "\n",
        "# Example usage\n",
        "samples, mean, variance, std_dev = generate_gaussian_samples(\n",
        "    mean=0, std_dev=1, size=1000\n",
        ")\n",
        "\n",
        "print(f\"Samples: {samples[:10]}...\")  # Print first 10 samples\n",
        "print(f\"Mean: {mean}\")\n",
        "print(f\"Variance: {variance}\")\n",
        "print(f\"Standard Deviation: {std_dev}\")"
      ],
      "metadata": {
        "colab": {
          "base_uri": "https://localhost:8080/"
        },
        "id": "QVXRtg5c3YsB",
        "outputId": "3bc2fcf9-0882-46e1-9354-8ff3ea0a714f"
      },
      "execution_count": null,
      "outputs": [
        {
          "output_type": "stream",
          "name": "stdout",
          "text": [
            "Samples: [-0.3675839   0.89832656  0.98760354  0.53042808 -0.02807687 -1.70105895\n",
            " -0.35330272 -0.98014306  0.43114733  1.52951307]...\n",
            "Mean: 0.00447063032914911\n",
            "Variance: 1.0788866094033283\n",
            "Standard Deviation: 1.03869466610902\n"
          ]
        }
      ]
    },
    {
      "cell_type": "markdown",
      "source": [
        "7) Use seaborn library to load tips dataset. Find the following from the dataset for the columns total_bill\n",
        "and tip`:\n",
        "\n",
        "  \n",
        "\n",
        "  (i) Write a Python function that calculates their skewness.\n",
        "\n",
        "\n",
        "  (ii) Create a program that determines whether the columns exhibit positive skewness, negative skewness, or is\n",
        "approximately symmetric.\n",
        "\n",
        "\n",
        "  (iii) Write a function that calculates the covariance between two columns.\n",
        "\n",
        "\n",
        "  (iv) Implement a Python program that calculates the Pearson correlation coefficient between two columns.\n",
        "\n",
        "\n",
        "  (v) Write a script to visualize the correlation between two specific columns in a Pandas DataFrame using\n",
        "scatter plots."
      ],
      "metadata": {
        "id": "lGqzkCa03pEH"
      }
    },
    {
      "cell_type": "code",
      "source": [
        "import seaborn as sns\n",
        "import pandas as pd\n",
        "import scipy.stats as stats\n",
        "\n",
        "# Load the tips dataset\n",
        "tips = sns.load_dataset('tips')\n",
        "\n",
        "# (i) Calculate skewness\n",
        "def calculate_skewness(data):\n",
        "    \"\"\"Calculates the skewness of a dataset.\"\"\"\n",
        "    return stats.skew(data)\n",
        "\n",
        "total_bill_skewness = calculate_skewness(tips['total_bill'])\n",
        "tip_skewness = calculate_skewness(tips['tip'])\n",
        "\n",
        "print(f\"Total Bill Skewness: {total_bill_skewness}\")\n",
        "print(f\"Tip Skewness: {tip_skewness}\")\n",
        "\n",
        "# (ii) Determine skewness type\n",
        "def determine_skewness_type(skewness):\n",
        "    \"\"\"Determines the type of skewness.\"\"\"\n",
        "    if skewness > 0:\n",
        "        return \"Positive Skewness\"\n",
        "    elif skewness < 0:\n",
        "        return \"Negative Skewness\"\n",
        "    else:\n",
        "        return \"Approximately Symmetric\"\n",
        "\n",
        "total_bill_skewness_type = determine_skewness_type(total_bill_skewness)\n",
        "tip_skewness_type = determine_skewness_type(tip_skewness)\n",
        "\n",
        "print(f\"Total Bill Skewness Type: {total_bill_skewness_type}\")\n",
        "print(f\"Tip Skewness Type: {tip_skewness_type}\")\n",
        "\n",
        "# (iii) Calculate covariance\n",
        "def calculate_covariance(data1, data2):\n",
        "    \"\"\"Calculates the covariance between two datasets.\"\"\"\n",
        "    return data1.cov(data2)\n",
        "\n",
        "covariance = calculate_covariance(tips['total_bill'], tips['tip'])\n",
        "\n",
        "print(f\"Covariance between Total Bill and Tip: {covariance}\")\n",
        "\n",
        "# (iv) Calculate Pearson correlation coefficient\n",
        "def calculate_pearson_correlation(data1, data2):\n",
        "    \"\"\"Calculates the Pearson correlation coefficient between two datasets.\"\"\"\n",
        "    return data1.corr(data2)\n",
        "\n",
        "correlation = calculate_pearson_correlation(tips['total_bill'], tips['tip'])\n",
        "\n",
        "print(f\"Pearson Correlation between Total Bill and Tip: {correlation}\")"
      ],
      "metadata": {
        "colab": {
          "base_uri": "https://localhost:8080/"
        },
        "id": "eQiosYUA36bn",
        "outputId": "de331414-4de1-4ec9-b365-a1f9facdfafb"
      },
      "execution_count": null,
      "outputs": [
        {
          "output_type": "stream",
          "name": "stdout",
          "text": [
            "Total Bill Skewness: 1.1262346334818638\n",
            "Tip Skewness: 1.4564266884221506\n",
            "Total Bill Skewness Type: Positive Skewness\n",
            "Tip Skewness Type: Positive Skewness\n",
            "Covariance between Total Bill and Tip: 8.323501629224854\n",
            "Pearson Correlation between Total Bill and Tip: 0.6757341092113641\n"
          ]
        }
      ]
    },
    {
      "cell_type": "code",
      "source": [
        "#V\n",
        "import seaborn as sns\n",
        "import matplotlib.pyplot as plt\n",
        "\n",
        "# Load the tips dataset (if not already loaded)\n",
        "tips = sns.load_dataset('tips')\n",
        "\n",
        "def visualize_correlation(data, column1, column2):\n",
        "    \"\"\"Visualizes the correlation between two columns using a scatter plot.\"\"\"\n",
        "    sns.scatterplot(x=column1, y=column2, data=data)\n",
        "    plt.title(f\"Correlation between {column1} and {column2}\")\n",
        "    plt.show()\n",
        "\n",
        "# Example usage: Visualize correlation between total_bill and tip\n",
        "visualize_correlation(tips, 'total_bill', 'tip')"
      ],
      "metadata": {
        "colab": {
          "base_uri": "https://localhost:8080/",
          "height": 472
        },
        "id": "ZeOlRD6c4F2y",
        "outputId": "516efc19-dfb7-48de-b559-cf72da57d430"
      },
      "execution_count": null,
      "outputs": [
        {
          "output_type": "display_data",
          "data": {
            "text/plain": [
              "<Figure size 640x480 with 1 Axes>"
            ],
            "image/png": "[encoded data removed]"
          },
          "metadata": {}
        }
      ]
    },
    {
      "cell_type": "markdown",
      "source": [
        "8) Write a Python function to calculate the probability density function (PDF) of a continuous random\n",
        "variable for a given normal distribution.\n"
      ],
      "metadata": {
        "id": "nyx1CG7y4cSZ"
      }
    },
    {
      "cell_type": "code",
      "source": [
        "import scipy.stats as stats\n",
        "\n",
        "def calculate_normal_pdf(x, mean, std_dev):\n",
        "    \"\"\"Calculates the probability density function (PDF) of a normal distribution.\n",
        "\n",
        "    Args:\n",
        "        x: The value at which to evaluate the PDF.\n",
        "        mean: The mean of the distribution.\n",
        "        std_dev: The standard deviation of the distribution.\n",
        "\n",
        "    Returns:\n",
        "        The PDF value at x.\n",
        "    \"\"\"\n",
        "    pdf_value = stats.norm.pdf(x, loc=mean, scale=std_dev)\n",
        "    return pdf_value\n",
        "\n",
        "# Example usage: Calculate PDF for x = 0, mean = 0, std_dev = 1\n",
        "pdf_at_0 = calculate_normal_pdf(x=0, mean=0, std_dev=1)\n",
        "print(f\"PDF at x = 0: {pdf_at_0}\")"
      ],
      "metadata": {
        "colab": {
          "base_uri": "https://localhost:8080/"
        },
        "id": "dG_UHi094noR",
        "outputId": "e257ee15-2f53-48f5-9441-524423ffbf2a"
      },
      "execution_count": null,
      "outputs": [
        {
          "output_type": "stream",
          "name": "stdout",
          "text": [
            "PDF at x = 0: 0.3989422804014327\n"
          ]
        }
      ]
    },
    {
      "cell_type": "markdown",
      "source": [
        "9) Create a program to calculate the cumulative distribution function (CDF) of exponential distribution."
      ],
      "metadata": {
        "id": "VdIouTKG4tMJ"
      }
    },
    {
      "cell_type": "code",
      "source": [
        "import scipy.stats as stats\n",
        "\n",
        "def calculate_exponential_cdf(x, lambda_param):\n",
        "    \"\"\"Calculates the cumulative distribution function (CDF) of an exponential distribution.\n",
        "\n",
        "    Args:\n",
        "        x: The value at which to evaluate the CDF.\n",
        "        lambda_param: The rate parameter of the exponential distribution (lambda).\n",
        "\n",
        "    Returns:\n",
        "        The CDF value at x.\n",
        "    \"\"\"\n",
        "    cdf_value = stats.expon.cdf(x, scale=1/lambda_param)\n",
        "    return cdf_value\n",
        "\n",
        "# Example usage: Calculate CDF for x = 1, lambda = 0.5\n",
        "cdf_at_1 = calculate_exponential_cdf(x=1, lambda_param=0.5)\n",
        "print(f\"CDF at x = 1: {cdf_at_1}\")"
      ],
      "metadata": {
        "colab": {
          "base_uri": "https://localhost:8080/"
        },
        "id": "cVlUn0wa428u",
        "outputId": "44a9acf1-2ee4-4c59-c8e5-6806a9eb8360"
      },
      "execution_count": null,
      "outputs": [
        {
          "output_type": "stream",
          "name": "stdout",
          "text": [
            "CDF at x = 1: 0.3934693402873666\n"
          ]
        }
      ]
    },
    {
      "cell_type": "markdown",
      "source": [
        "10) Write a Python function to calculate the probability mass function (PMF) of Poisson distribution.\n"
      ],
      "metadata": {
        "id": "p4lLNsYC49Xb"
      }
    },
    {
      "cell_type": "code",
      "source": [
        "import scipy.stats as stats\n",
        "\n",
        "def calculate_poisson_pmf(k, mu):\n",
        "    \"\"\"Calculates the probability mass function (PMF) of a Poisson distribution.\n",
        "\n",
        "    Args:\n",
        "        k: The number of occurrences (non-negative integer).\n",
        "        mu: The average rate of occurrences (lambda).\n",
        "\n",
        "    Returns:\n",
        "        The PMF value for k occurrences.\n",
        "    \"\"\"\n",
        "    pmf_value = stats.poisson.pmf(k, mu=mu)\n",
        "    return pmf_value\n",
        "\n",
        "# Example usage: Calculate PMF for k = 2, mu = 3\n",
        "pmf_at_2 = calculate_poisson_pmf(k=2, mu=3)\n",
        "print(f\"PMF for k = 2: {pmf_at_2}\")"
      ],
      "metadata": {
        "colab": {
          "base_uri": "https://localhost:8080/"
        },
        "id": "mp94sNxB5EQA",
        "outputId": "1438b5d3-b0f8-447e-cb9c-afc000750685"
      },
      "execution_count": null,
      "outputs": [
        {
          "output_type": "stream",
          "name": "stdout",
          "text": [
            "PMF for k = 2: 0.22404180765538775\n"
          ]
        }
      ]
    },
    {
      "cell_type": "markdown",
      "source": [
        "11) A company wants to test if a new website layout leads to a higher conversion rate (percentage of visitors\n",
        "who make a purchase). They collect data from the old and new layouts to compare.\n",
        "\n",
        "\n",
        "To generate the data use the following command:\n",
        "\n",
        "```python\n",
        "\n",
        "import numpy as np\n",
        "\n",
        "# 50 purchases out of 1000 visitors\n",
        "\n",
        "old_layout = np.array([1] * 50 + [0] * 950)\n",
        "\n",
        "# 70 purchases out of 1000 visitors  \n",
        "\n",
        "new_layout = np.array([1] * 70 + [0] * 930)\n",
        "\n",
        "  ```\n",
        "\n",
        "Apply z-test to find which layout is successful."
      ],
      "metadata": {
        "id": "8Scp01PU5KNd"
      }
    },
    {
      "cell_type": "code",
      "source": [
        "import numpy as np\n",
        "from statsmodels.stats.proportion import proportions_ztest\n",
        "\n",
        "# Data for old and new layouts\n",
        "old_layout = np.array([1] * 50 + [0] * 950)\n",
        "new_layout = np.array([1] * 70 + [0] * 930)\n",
        "\n",
        "# Number of successes (conversions) and total observations\n",
        "successes = [old_layout.sum(), new_layout.sum()]\n",
        "nobs = [len(old_layout), len(new_layout)]\n",
        "\n",
        "# Perform the z-test\n",
        "z_stat, p_value = proportions_ztest(count=successes, nobs=nobs, alternative='smaller')\n",
        "# alternative='smaller' tests if old layout has a smaller conversion rate\n",
        "\n",
        "print(f\"Z-statistic: {z_stat}\")\n",
        "print(f\"P-value: {p_value}\")\n",
        "\n",
        "# Interpretation\n",
        "alpha = 0.05  # Significance level\n",
        "if p_value < alpha:\n",
        "    print(\"Reject the null hypothesis: The new layout has a significantly higher conversion rate.\")\n",
        "else:\n",
        "    print(\"Fail to reject the null hypothesis: There is no significant difference in conversion rates.\")"
      ],
      "metadata": {
        "colab": {
          "base_uri": "https://localhost:8080/"
        },
        "id": "MmjfeOYi5hEU",
        "outputId": "cba10e63-6dc9-4bfa-ba7f-1047e44639d7"
      },
      "execution_count": null,
      "outputs": [
        {
          "output_type": "stream",
          "name": "stdout",
          "text": [
            "Z-statistic: -1.883108942886774\n",
            "P-value: 0.029842802766213112\n",
            "Reject the null hypothesis: The new layout has a significantly higher conversion rate.\n"
          ]
        }
      ]
    },
    {
      "cell_type": "markdown",
      "source": [
        "12)A tutoring service claims that its program improves students' exam scores. A sample of students who\n",
        "participated in the program was taken, and their scores before and after the program were recorded.\n",
        "\n",
        "\n",
        "Use the below code to generate samples of respective arrays of marks:\n",
        "\n",
        "```python\n",
        "\n",
        "before_program = np.array([75, 80, 85, 70, 90, 78, 92, 88, 82, 87])\n",
        "\n",
        "after_program = np.array([80, 85, 90, 80, 92, 80, 95, 90, 85, 88])\n",
        "\n",
        "```\n",
        "\n",
        "Use z-test to find if the claims made by tutor are true or false."
      ],
      "metadata": {
        "id": "LPQciyUk5mev"
      }
    },
    {
      "cell_type": "code",
      "source": [
        "import numpy as np\n",
        "from statsmodels.stats.weightstats import ztest\n",
        "\n",
        "# Scores before and after the program\n",
        "before_program = np.array([75, 80, 85, 70, 90, 78, 92, 88, 82, 87])\n",
        "after_program = np.array([80, 85, 90, 80, 92, 80, 95, 90, 85, 88])\n",
        "\n",
        "# Perform the paired samples z-test\n",
        "z_stat, p_value = ztest(x1=after_program, x2=before_program, value=0, alternative='larger')\n",
        "# alternative='larger' tests if after_program scores are significantly larger\n",
        "\n",
        "print(f\"Z-statistic: {z_stat}\")\n",
        "print(f\"P-value: {p_value}\")\n",
        "\n",
        "# Interpretation\n",
        "alpha = 0.05  # Significance level\n",
        "if p_value < alpha:\n",
        "    print(\"Reject the null hypothesis: The tutoring program significantly improves exam scores.\")\n",
        "else:\n",
        "    print(\"Fail to reject the null hypothesis: There is no significant improvement in exam scores.\")"
      ],
      "metadata": {
        "colab": {
          "base_uri": "https://localhost:8080/"
        },
        "id": "mMiV-zIT5vbe",
        "outputId": "50f95afa-645f-436a-e2da-1bb1b06ffac2"
      },
      "execution_count": null,
      "outputs": [
        {
          "output_type": "stream",
          "name": "stdout",
          "text": [
            "Z-statistic: 1.3600371723457605\n",
            "P-value: 0.08690908050913837\n",
            "Fail to reject the null hypothesis: There is no significant improvement in exam scores.\n"
          ]
        }
      ]
    },
    {
      "cell_type": "markdown",
      "source": [
        "13) A pharmaceutical company wants to determine if a new drug is effective in reducing blood pressure. They\n",
        "conduct a study and record blood pressure measurements before and after administering the drug.\n",
        "\n",
        "\n",
        "Use the below code to generate samples of respective arrays of blood pressure:\n",
        "\n",
        "\n",
        "```python\n",
        "\n",
        "before_drug = np.array([145, 150, 140, 135, 155, 160, 152, 148, 130, 138])\n",
        "\n",
        "after_drug = np.array([130, 140, 132, 128, 145, 148, 138, 136, 125, 130])\n",
        "\n",
        "  ```\n",
        "\n",
        "\n",
        "Implement z-test to find if the drug really works or not."
      ],
      "metadata": {
        "id": "6UqZn96J51BP"
      }
    },
    {
      "cell_type": "code",
      "source": [
        "import numpy as np\n",
        "from statsmodels.stats.weightstats import ztest\n",
        "\n",
        "# Blood pressure measurements before and after the drug\n",
        "before_drug = np.array([145, 150, 140, 135, 155, 160, 152, 148, 130, 138])\n",
        "after_drug = np.array([130, 140, 132, 128, 145, 148, 138, 136, 125, 130])\n",
        "\n",
        "# Perform the paired samples z-test\n",
        "z_stat, p_value = ztest(x1=before_drug, x2=after_drug, value=0, alternative='larger')\n",
        "# alternative='larger' tests if before_drug scores are significantly larger\n",
        "\n",
        "print(f\"Z-statistic: {z_stat}\")\n",
        "print(f\"P-value: {p_value}\")\n",
        "\n",
        "# Interpretation\n",
        "alpha = 0.05  # Significance level\n",
        "if p_value < alpha:\n",
        "    print(\"Reject the null hypothesis: The drug is effective in reducing blood pressure.\")\n",
        "else:\n",
        "    print(\"Fail to reject the null hypothesis: There is no significant evidence that the drug reduces blood pressure.\")"
      ],
      "metadata": {
        "colab": {
          "base_uri": "https://localhost:8080/"
        },
        "id": "eOnpgJhG580T",
        "outputId": "e0fa78b3-3192-44a7-c37d-ae4f59c92cc6"
      },
      "execution_count": null,
      "outputs": [
        {
          "output_type": "stream",
          "name": "stdout",
          "text": [
            "Z-statistic: 2.639577121919447\n",
            "P-value: 0.004150476693595778\n",
            "Reject the null hypothesis: The drug is effective in reducing blood pressure.\n"
          ]
        }
      ]
    },
    {
      "cell_type": "markdown",
      "source": [
        "14) A customer service department claims that their average response time is less than 5 minutes. A sample\n",
        "of recent customer interactions was taken, and the response times were recorded.\n",
        "\n",
        "\n",
        "Implement the below code to generate the array of response time:\n",
        "\n",
        "```python\n",
        "\n",
        "response_times = np.array([4.3, 3.8, 5.1, 4.9, 4.7, 4.2, 5.2, 4.5, 4.6, 4.4])\n",
        "\n",
        "```\n",
        "\n",
        "Implement z-test to find the claims made by customer service department are true or false"
      ],
      "metadata": {
        "id": "TRm9PTe0AYk0"
      }
    },
    {
      "cell_type": "code",
      "source": [
        "import numpy as np\n",
        "from statsmodels.stats.weightstats import ztest\n",
        "\n",
        "# Response times data\n",
        "response_times = np.array([4.3, 3.8, 5.1, 4.9, 4.7, 4.2, 5.2, 4.5, 4.6, 4.4])\n",
        "\n",
        "# Perform the one-sample z-test\n",
        "z_stat, p_value = ztest(x1=response_times, value=5, alternative='smaller')\n",
        "# alternative='smaller' tests if the mean response time is significantly smaller than 5\n",
        "\n",
        "print(f\"Z-statistic: {z_stat}\")\n",
        "print(f\"P-value: {p_value}\")\n",
        "\n",
        "# Interpretation\n",
        "alpha = 0.05  # Significance level\n",
        "if p_value < alpha:\n",
        "    print(\"Reject the null hypothesis: The average response time is significantly less than 5 minutes.\")\n",
        "else:\n",
        "    print(\"Fail to reject the null hypothesis: There is no significant evidence that the average response time is less than 5 minutes.\")"
      ],
      "metadata": {
        "colab": {
          "base_uri": "https://localhost:8080/"
        },
        "id": "xePuQDP3Ag1M",
        "outputId": "761d86ca-e3fe-4538-a7e1-8d381bc1f5e5"
      },
      "execution_count": null,
      "outputs": [
        {
          "output_type": "stream",
          "name": "stdout",
          "text": [
            "Z-statistic: -3.1844572260429627\n",
            "P-value: 0.0007251287113068958\n",
            "Reject the null hypothesis: The average response time is significantly less than 5 minutes.\n"
          ]
        }
      ]
    },
    {
      "cell_type": "markdown",
      "source": [
        "15) A company is testing two different website layouts to see which one leads to higher click-through rates.\n",
        "Write a Python function to perform an A/B test analysis, including calculating the t-statistic, degrees of\n",
        "freedom, and p-value.\n",
        "\n",
        "\n",
        "Use the following data:\n",
        "\n",
        "```python\n",
        "\n",
        "layout_a_clicks = [28, 32, 33, 29, 31, 34, 30, 35, 36, 37]\n",
        "\n",
        "layout_b_clicks = [40, 41, 38, 42, 39, 44, 43, 41, 45, 47]"
      ],
      "metadata": {
        "id": "aHIjWYU3AqJo"
      }
    },
    {
      "cell_type": "code",
      "source": [
        "import scipy.stats as stats\n",
        "\n",
        "def perform_ab_test(layout_a_data, layout_b_data):\n",
        "    \"\"\"Performs an A/B test analysis using a two-sample t-test.\n",
        "\n",
        "    Args:\n",
        "        layout_a_data: Click-through data for layout A.\n",
        "        layout_b_data: Click-through data for layout B.\n",
        "\n",
        "    Returns:\n",
        "        A tuple containing the t-statistic, degrees of freedom, and p-value.\n",
        "    \"\"\"\n",
        "    t_statistic, p_value = stats.ttest_ind(layout_a_data, layout_b_data)\n",
        "    degrees_of_freedom = len(layout_a_data) + len(layout_b_data) - 2\n",
        "\n",
        "    return t_statistic, degrees_of_freedom, p_value\n",
        "\n",
        "# Example usage\n",
        "layout_a_clicks = [28, 32, 33, 29, 31, 34, 30, 35, 36, 37]\n",
        "layout_b_clicks = [40, 41, 38, 42, 39, 44, 43, 41, 45, 47]\n",
        "\n",
        "t_statistic, degrees_of_freedom, p_value = perform_ab_test(layout_a_clicks, layout_b_clicks)\n",
        "\n",
        "print(f\"T-statistic: {t_statistic}\")\n",
        "print(f\"Degrees of Freedom: {degrees_of_freedom}\")\n",
        "print(f\"P-value: {p_value}\")"
      ],
      "metadata": {
        "colab": {
          "base_uri": "https://localhost:8080/"
        },
        "id": "fTISap4CAzU2",
        "outputId": "7a371910-ce3e-4ee9-99e5-5e1103a57c63"
      },
      "execution_count": null,
      "outputs": [
        {
          "output_type": "stream",
          "name": "stdout",
          "text": [
            "T-statistic: -7.298102156175071\n",
            "Degrees of Freedom: 18\n",
            "P-value: 8.833437608301987e-07\n"
          ]
        }
      ]
    },
    {
      "cell_type": "markdown",
      "source": [
        "16) A pharmaceutical company wants to determine if a new drug is more effective than an existing drug in\n",
        "reducing cholesterol levels. Create a program to analyze the clinical trial data and calculate the tstatistic and p-value for the treatment effect.\n",
        "\n",
        "\n",
        "Use the following data of cholestrol level:\n",
        "\n",
        "```python\n",
        "\n",
        "existing_drug_levels = [180, 182, 175, 185, 178, 176, 172, 184, 179, 183]\n",
        "\n",
        "new_drug_levels = [170, 172, 165, 168, 175, 173, 170, 178, 172, 176]"
      ],
      "metadata": {
        "id": "Ce6MOogOA5Hm"
      }
    },
    {
      "cell_type": "markdown",
      "source": [
        "16) A pharmaceutical company wants to determine if a new drug is more effective than an existing drug in\n",
        "reducing cholesterol levels. Create a program to analyze the clinical trial data and calculate the tstatistic and p-value for the treatment effect.\n",
        "\n",
        "\n",
        "Use the following data of cholestrol level:\n",
        "\n",
        "```python\n",
        "\n",
        "existing_drug_levels = [180, 182, 175, 185, 178, 176, 172, 184, 179, 183]\n",
        "\n",
        "new_drug_levels = [170, 172, 165, 168, 175, 173, 170, 178, 172, 176]"
      ],
      "metadata": {
        "id": "B1Z6cLsR9abs"
      }
    },
    {
      "cell_type": "code",
      "source": [
        "import scipy.stats as stats\n",
        "\n",
        "# Cholesterol levels for existing and new drugs\n",
        "existing_drug_levels = [180, 182, 175, 185, 178, 176, 172, 184, 179, 183]\n",
        "new_drug_levels = [170, 172, 165, 168, 175, 173, 170, 178, 172, 176]\n",
        "\n",
        "# Perform an independent samples t-test\n",
        "t_statistic, p_value = stats.ttest_ind(existing_drug_levels, new_drug_levels, alternative='greater')\n",
        "# alternative='greater' tests if the existing drug has a greater mean\n",
        "# (i.e., if the new drug is more effective in reducing cholesterol)\n",
        "\n",
        "print(f\"T-statistic: {t_statistic}\")\n",
        "print(f\"P-value: {p_value}\")\n",
        "\n",
        "# Interpretation\n",
        "alpha = 0.05  # Significance level\n",
        "if p_value < alpha:\n",
        "    print(\"Reject the null hypothesis: The new drug is significantly more effective in reducing cholesterol levels.\")\n",
        "else:\n",
        "    print(\"Fail to reject the null hypothesis: There is no significant evidence that the new drug is more effective.\")"
      ],
      "metadata": {
        "colab": {
          "base_uri": "https://localhost:8080/"
        },
        "id": "ywr9kIF89hw5",
        "outputId": "7964bb55-d630-4fb3-b0c8-1f831910b104"
      },
      "execution_count": 1,
      "outputs": [
        {
          "output_type": "stream",
          "name": "stdout",
          "text": [
            "T-statistic: 4.14048098620866\n",
            "P-value: 0.00030716992211862526\n",
            "Reject the null hypothesis: The new drug is significantly more effective in reducing cholesterol levels.\n"
          ]
        }
      ]
    },
    {
      "cell_type": "markdown",
      "source": [
        "17) A school district introduces an educational intervention program to improve math scores. Write a Python\n",
        "function to analyze pre- and post-intervention test scores, calculating the t-statistic and p-value to\n",
        "determine if the intervention had a significant impact.\n",
        "\n",
        "\n",
        "Use the following data of test score:\n",
        "\n",
        "\n",
        "  ```python\n",
        "\n",
        "  pre_intervention_scores = [80, 85, 90, 75, 88, 82, 92, 78, 85, 87]\n",
        "\n",
        "  post_intervention_scores = [90, 92, 88, 92, 95, 91, 96, 93, 89, 93]"
      ],
      "metadata": {
        "id": "ZZuQ5lS_9sq7"
      }
    },
    {
      "cell_type": "code",
      "source": [
        "import scipy.stats as stats\n",
        "\n",
        "def analyze_intervention_impact(pre_scores, post_scores):\n",
        "    \"\"\"Analyzes pre- and post-intervention test scores using a paired samples t-test.\n",
        "\n",
        "    Args:\n",
        "        pre_scores: List of pre-intervention scores.\n",
        "        post_scores: List of post-intervention scores.\n",
        "\n",
        "    Returns:\n",
        "        A tuple containing the t-statistic and p-value.\n",
        "    \"\"\"\n",
        "    t_statistic, p_value = stats.ttest_rel(pre_scores, post_scores)\n",
        "\n",
        "    return t_statistic, p_value\n",
        "\n",
        "# Example usage\n",
        "pre_intervention_scores = [80, 85, 90, 75, 88, 82, 92, 78, 85, 87]\n",
        "post_intervention_scores = [90, 92, 88, 92, 95, 91, 96, 93, 89, 93]\n",
        "\n",
        "t_statistic, p_value = analyze_intervention_impact(pre_intervention_scores, post_intervention_scores)\n",
        "\n",
        "print(f\"T-statistic: {t_statistic}\")\n",
        "print(f\"P-value: {p_value}\")\n",
        "\n",
        "# Interpretation\n",
        "alpha = 0.05  # Significance level\n",
        "if p_value < alpha:\n",
        "    print(\"Reject the null hypothesis: The intervention had a significant impact on math scores.\")\n",
        "else:\n",
        "    print(\"Fail to reject the null hypothesis: There is no significant evidence that the intervention improved math scores.\")"
      ],
      "metadata": {
        "colab": {
          "base_uri": "https://localhost:8080/"
        },
        "id": "yLVRqis595dv",
        "outputId": "6537cf33-afc7-4b73-8d40-68448974b46f"
      },
      "execution_count": 2,
      "outputs": [
        {
          "output_type": "stream",
          "name": "stdout",
          "text": [
            "T-statistic: -4.42840883965761\n",
            "P-value: 0.0016509548165795493\n",
            "Reject the null hypothesis: The intervention had a significant impact on math scores.\n"
          ]
        }
      ]
    },
    {
      "cell_type": "markdown",
      "source": [
        "18) An HR department wants to investigate if there's a gender-based salary gap within the company. Develop\n",
        "a program to analyze salary data, calculate the t-statistic, and determine if there's a statistically\n",
        "significant difference between the average salaries of male and female employees.\n",
        "\n",
        "\n",
        "Use the below code to generate synthetic data:\n",
        "\n",
        "\n",
        "```python\n",
        "\n",
        "# Generate synthetic salary data for male and female employees\n",
        "\n",
        "np.random.seed(0)  # For reproducibility\n",
        "\n",
        "male_salaries = np.random.normal(loc=50000, scale=10000, size=20)\n",
        "\n",
        "female_salaries = np.random.normal(loc=55000, scale=9000, size=20)"
      ],
      "metadata": {
        "id": "xEvKiEVu97WF"
      }
    },
    {
      "cell_type": "code",
      "source": [
        "import numpy as np\n",
        "from scipy import stats\n",
        "\n",
        "# Generate synthetic salary data\n",
        "np.random.seed(0)\n",
        "male_salaries = np.random.normal(loc=50000, scale=10000, size=20)\n",
        "female_salaries = np.random.normal(loc=55000, scale=9000, size=20)\n",
        "\n",
        "# Perform an independent samples t-test\n",
        "t_statistic, p_value = stats.ttest_ind(male_salaries, female_salaries)\n",
        "\n",
        "print(f\"T-statistic: {t_statistic}\")\n",
        "print(f\"P-value: {p_value}\")\n",
        "\n",
        "# Interpretation\n",
        "alpha = 0.05  # Significance level\n",
        "if p_value < alpha:\n",
        "    print(\"Reject the null hypothesis: There is a statistically significant difference in average salaries between male and female employees.\")\n",
        "else:\n",
        "    print(\"Fail to reject the null hypothesis: There is no statistically significant difference in average salaries.\")"
      ],
      "metadata": {
        "colab": {
          "base_uri": "https://localhost:8080/"
        },
        "id": "gZ8a4oFS-ElT",
        "outputId": "df25cf35-dd4c-4833-8dd3-a8f1785e48f4"
      },
      "execution_count": 3,
      "outputs": [
        {
          "output_type": "stream",
          "name": "stdout",
          "text": [
            "T-statistic: 0.06114208969631383\n",
            "P-value: 0.9515665020676465\n",
            "Fail to reject the null hypothesis: There is no statistically significant difference in average salaries.\n"
          ]
        }
      ]
    },
    {
      "cell_type": "markdown",
      "source": [
        "19) A manufacturer produces two different versions of a product and wants to compare their quality scores.\n",
        "Create a Python function to analyze quality assessment data, calculate the t-statistic, and decide\n",
        "whether there's a significant difference in quality between the two versions.\n",
        "\n",
        "\n",
        "Use the following data:\n",
        "\n",
        "\n",
        "```python\n",
        "\n",
        "version1_scores = [85, 88, 82, 89, 87, 84, 90, 88, 85, 86, 91, 83, 87, 84, 89, 86, 84, 88, 85, 86, 89, 90, 87, 88, 85]\n",
        "\n",
        "version2_scores = [80, 78, 83, 81, 79, 82, 76, 80, 78, 81, 77, 82, 80, 79, 82, 79, 80, 81, 79, 82, 79, 78, 80, 81, 82]"
      ],
      "metadata": {
        "id": "Ye9b0nP6-GR7"
      }
    },
    {
      "cell_type": "code",
      "source": [
        "import scipy.stats as stats\n",
        "\n",
        "def compare_product_versions(version1_scores, version2_scores):\n",
        "    \"\"\"Analyzes quality assessment data using an independent samples t-test.\n",
        "\n",
        "    Args:\n",
        "        version1_scores: List of quality scores for version 1.\n",
        "        version2_scores: List of quality scores for version 2.\n",
        "\n",
        "    Returns:\n",
        "        A tuple containing the t-statistic and p-value.\n",
        "    \"\"\"\n",
        "    t_statistic, p_value = stats.ttest_ind(version1_scores, version2_scores)\n",
        "\n",
        "    return t_statistic, p_value\n",
        "\n",
        "# Example usage\n",
        "version1_scores = [85, 88, 82, 89, 87, 84, 90, 88, 85, 86, 91, 83, 87, 84, 89, 86, 84, 88, 85, 86, 89, 90, 87, 88, 85]\n",
        "version2_scores = [80, 78, 83, 81, 79, 82, 76, 80, 78, 81, 77, 82, 80, 79, 82, 79, 80, 81, 79, 82, 79, 78, 80, 81, 82]\n",
        "\n",
        "t_statistic, p_value = compare_product_versions(version1_scores, version2_scores)\n",
        "\n",
        "print(f\"T-statistic: {t_statistic}\")\n",
        "print(f\"P-value: {p_value}\")\n",
        "\n",
        "# Interpretation\n",
        "alpha = 0.05  # Significance level\n",
        "if p_value < alpha:\n",
        "    print(\"Reject the null hypothesis: There is a significant difference in quality between the two versions.\")\n",
        "else:\n",
        "    print(\"Fail to reject the null hypothesis: There is no significant difference in quality.\")"
      ],
      "metadata": {
        "colab": {
          "base_uri": "https://localhost:8080/"
        },
        "id": "mPX1YSSv-dOt",
        "outputId": "c00fb333-75b0-4410-d604-e7e3d48e5e14"
      },
      "execution_count": 4,
      "outputs": [
        {
          "output_type": "stream",
          "name": "stdout",
          "text": [
            "T-statistic: 11.325830417646698\n",
            "P-value: 3.6824250702873965e-15\n",
            "Reject the null hypothesis: There is a significant difference in quality between the two versions.\n"
          ]
        }
      ]
    },
    {
      "cell_type": "markdown",
      "source": [
        " 20. A restaurant chain collects customer satisfaction scores for two different branches. Write a program to\n",
        "analyze the scores, calculate the t-statistic, and determine if there's a statistically significant difference in\n",
        "customer satisfaction between the branches.\n",
        "\n",
        "\n",
        "Use the below data of scores:\n",
        "\n",
        "  ```python\n",
        "\n",
        "branch_a_scores = [4, 5, 3, 4, 5, 4, 5, 3, 4, 4, 5, 4, 4, 3, 4, 5, 5, 4, 3, 4, 5, 4, 3, 5, 4, 4, 5, 3, 4, 5, 4]\n",
        "\n",
        "branch_b_scores = [3, 4, 2, 3, 4, 3, 4, 2, 3, 3, 4, 3, 3, 2, 3, 4, 4, 3, 2, 3, 4, 3, 2, 4, 3, 3, 4, 2, 3, 4, 3]"
      ],
      "metadata": {
        "id": "Z_XLACF_-ilL"
      }
    },
    {
      "cell_type": "code",
      "source": [
        "import scipy.stats as stats\n",
        "\n",
        "# Customer satisfaction scores for Branch A and Branch B\n",
        "branch_a_scores = [4, 5, 3, 4, 5, 4, 5, 3, 4, 4, 5, 4, 4, 3, 4, 5, 5, 4, 3, 4, 5, 4, 3, 5, 4, 4, 5, 3, 4, 5, 4]\n",
        "branch_b_scores = [3, 4, 2, 3, 4, 3, 4, 2, 3, 3, 4, 3, 3, 2, 3, 4, 4, 3, 2, 3, 4, 3, 2, 4, 3, 3, 4, 2, 3, 4, 3]\n",
        "\n",
        "# Perform an independent samples t-test\n",
        "t_statistic, p_value = stats.ttest_ind(branch_a_scores, branch_b_scores)\n",
        "\n",
        "print(f\"T-statistic: {t_statistic}\")\n",
        "print(f\"P-value: {p_value}\")\n",
        "\n",
        "# Interpretation\n",
        "alpha = 0.05  # Significance level\n",
        "if p_value < alpha:\n",
        "    print(\"Reject the null hypothesis: There is a statistically significant difference in customer satisfaction between the branches.\")\n",
        "else:\n",
        "    print(\"Fail to reject the null hypothesis: There is no statistically significant difference in customer satisfaction.\")"
      ],
      "metadata": {
        "colab": {
          "base_uri": "https://localhost:8080/"
        },
        "id": "e3FF9AxB-lwG",
        "outputId": "a7d995be-1a0b-4c50-85b6-434649217157"
      },
      "execution_count": 5,
      "outputs": [
        {
          "output_type": "stream",
          "name": "stdout",
          "text": [
            "T-statistic: 5.480077554195743\n",
            "P-value: 8.895290509945655e-07\n",
            "Reject the null hypothesis: There is a statistically significant difference in customer satisfaction between the branches.\n"
          ]
        }
      ]
    },
    {
      "cell_type": "markdown",
      "source": [
        "21 A political analyst wants to determine if there is a significant association between age groups and voter\n",
        "preferences (Candidate A or Candidate B). They collect data from a sample of 500 voters and classify\n",
        "them into different age groups and candidate preferences. Perform a Chi-Square test to determine if\n",
        "there is a significant association between age groups and voter preferences.\n",
        "\n",
        "\n",
        "Use the below code to generate data:\n",
        "\n",
        "```python\n",
        "\n",
        "np.random.seed(0)\n",
        "\n",
        "age_groups = np.random.choice([ 18 30 , 31 50 , 51+', 51+'], size=30)\n",
        "\n",
        "voter_preferences = np.random.choice(['Candidate A', 'Candidate B'], size=30)"
      ],
      "metadata": {
        "id": "icvep6VYEu6G"
      }
    },
    {
      "cell_type": "code",
      "source": [
        "import numpy as np\n",
        "import pandas as pd\n",
        "from scipy.stats import chi2_contingency\n",
        "\n",
        "# Generate data (corrected code)\n",
        "np.random.seed(0)\n",
        "age_groups = np.random.choice(['18-30', '31-50', '51+'], size=30)  # Corrected age groups\n",
        "voter_preferences = np.random.choice(['Candidate A', 'Candidate B'], size=30)\n",
        "\n",
        "# Create a contingency table (frequency table)\n",
        "data = {'Age Group': age_groups, 'Voter Preference': voter_preferences}\n",
        "df = pd.DataFrame(data)\n",
        "contingency_table = pd.crosstab(df['Age Group'], df['Voter Preference'])\n",
        "\n",
        "# Perform Chi-Square test\n",
        "chi2, p_value, dof, expected = chi2_contingency(contingency_table)\n",
        "\n",
        "print(f\"Chi-Square Statistic: {chi2}\")\n",
        "print(f\"P-value: {p_value}\")\n",
        "print(f\"Degrees of Freedom: {dof}\")\n",
        "#print(f\"Expected Frequencies: \\n{expected}\")  # You can uncomment this to view expected frequencies\n",
        "\n",
        "# Interpretation\n",
        "alpha = 0.05  # Significance level\n",
        "if p_value < alpha:\n",
        "    print(\"Reject the null hypothesis: There is a significant association between age groups and voter preferences.\")\n",
        "else:\n",
        "    print(\"Fail to reject the null hypothesis: There is no significant association between age groups and voter preferences.\")"
      ],
      "metadata": {
        "colab": {
          "base_uri": "https://localhost:8080/"
        },
        "id": "Ypj8ki1gFzUT",
        "outputId": "4132daee-9ad5-4bd9-f8bb-12fc38e07e6c"
      },
      "execution_count": 6,
      "outputs": [
        {
          "output_type": "stream",
          "name": "stdout",
          "text": [
            "Chi-Square Statistic: 1.4401669758812612\n",
            "P-value: 0.48671161971286614\n",
            "Degrees of Freedom: 2\n",
            "Fail to reject the null hypothesis: There is no significant association between age groups and voter preferences.\n"
          ]
        }
      ]
    },
    {
      "cell_type": "markdown",
      "source": [
        " 22. A company conducted a customer satisfaction survey to determine if there is a significant relationship\n",
        "between product satisfaction levels (Satisfied, Neutral, Dissatisfied) and the region where customers are\n",
        "located (East, West, North, South). The survey data is summarized in a contingency table. Conduct a ChiSquare test to determine if there is a significant relationship between product satisfaction levels and\n",
        "customer regions.\n",
        "\n",
        "\n",
        "Sample data:\n",
        "\n",
        "```python\n",
        "\n",
        "#Sample data: Product satisfaction levels (rows) vs. Customer regions (columns)\n",
        "\n",
        "data = np.array([[50, 30, 40, 20], [30, 40, 30, 50], [20, 30, 40, 30]])"
      ],
      "metadata": {
        "id": "Qhyrm5T_F7BP"
      }
    },
    {
      "cell_type": "code",
      "source": [
        "import numpy as np\n",
        "from scipy.stats import chi2_contingency\n",
        "\n",
        "# Sample data (corrected format)\n",
        "data = np.array([[50, 30, 40, 20], [30, 40, 30, 50], [20, 30, 40, 30]])  # Corrected to 3x4 array\n",
        "\n",
        "# Perform Chi-Square test\n",
        "chi2, p_value, dof, expected = chi2_contingency(data)\n",
        "\n",
        "print(f\"Chi-Square Statistic: {chi2}\")\n",
        "print(f\"P-value: {p_value}\")\n",
        "print(f\"Degrees of Freedom: {dof}\")\n",
        "#print(f\"Expected Frequencies: \\n{expected}\")  # You can uncomment this to view expected frequencies\n",
        "\n",
        "# Interpretation\n",
        "alpha = 0.05  # Significance level\n",
        "if p_value < alpha:\n",
        "    print(\"Reject the null hypothesis: There is a significant relationship between product satisfaction levels and customer regions.\")\n",
        "else:\n",
        "    print(\"Fail to reject the null hypothesis: There is no significant relationship between product satisfaction levels and customer regions.\")"
      ],
      "metadata": {
        "colab": {
          "base_uri": "https://localhost:8080/"
        },
        "id": "sFrjq_NQGcqG",
        "outputId": "20cf3b8f-b474-4064-9a09-865b54a69f04"
      },
      "execution_count": 7,
      "outputs": [
        {
          "output_type": "stream",
          "name": "stdout",
          "text": [
            "Chi-Square Statistic: 27.777056277056275\n",
            "P-value: 0.00010349448486004387\n",
            "Degrees of Freedom: 6\n",
            "Reject the null hypothesis: There is a significant relationship between product satisfaction levels and customer regions.\n"
          ]
        }
      ]
    },
    {
      "cell_type": "markdown",
      "source": [
        " 23. A company implemented an employee training program to improve job performance (Effective, Neutral,\n",
        "Ineffective). After the training, they collected data from a sample of employees and classified them based\n",
        "on their job performance before and after the training. Perform a Chi-Square test to determine if there is a\n",
        "significant difference between job performance levels before and after the training.\n",
        "\n",
        "\n",
        "Sample data:\n",
        "\n",
        "```python\n",
        "\n",
        "# Sample data: Job performance levels before (rows) and after (columns) training\n",
        "\n",
        "data = np.array([[50, 30, 20], [30, 40, 30], [20, 30, 40]])"
      ],
      "metadata": {
        "id": "_rcVspEaGijZ"
      }
    },
    {
      "cell_type": "code",
      "source": [
        "import numpy as np\n",
        "from scipy.stats import chi2_contingency\n",
        "\n",
        "# Sample data: Job performance levels before (rows) and after (columns) training\n",
        "data = np.array([[50, 30, 20], [30, 40, 30], [20, 30, 40]])\n",
        "\n",
        "# Perform Chi-Square test\n",
        "chi2, p_value, dof, expected = chi2_contingency(data)\n",
        "\n",
        "print(f\"Chi-Square Statistic: {chi2}\")\n",
        "print(f\"P-value: {p_value}\")\n",
        "print(f\"Degrees of Freedom: {dof}\")\n",
        "#print(f\"Expected Frequencies: \\n{expected}\")  # You can uncomment this to view expected frequencies\n",
        "\n",
        "# Interpretation\n",
        "alpha = 0.05  # Significance level\n",
        "if p_value < alpha:\n",
        "    print(\"Reject the null hypothesis: There is a significant difference in job performance levels before and after training.\")\n",
        "else:\n",
        "    print(\"Fail to reject the null hypothesis: There is no significant difference in job performance levels before and after training.\")"
      ],
      "metadata": {
        "colab": {
          "base_uri": "https://localhost:8080/"
        },
        "id": "pNR2IIJEGrYP",
        "outputId": "74fbff0a-a19c-4fcc-a4ba-504fc6141355"
      },
      "execution_count": 8,
      "outputs": [
        {
          "output_type": "stream",
          "name": "stdout",
          "text": [
            "Chi-Square Statistic: 22.161728395061726\n",
            "P-value: 0.00018609719479882557\n",
            "Degrees of Freedom: 4\n",
            "Reject the null hypothesis: There is a significant difference in job performance levels before and after training.\n"
          ]
        }
      ]
    },
    {
      "cell_type": "markdown",
      "source": [
        " 24. A company produces three different versions of a product: Standard, Premium, and Deluxe. The\n",
        "company wants to determine if there is a significant difference in customer satisfaction scores among the\n",
        "three product versions. They conducted a survey and collected customer satisfaction scores for each\n",
        "version from a random sample of customers. Perform an ANOVA test to determine if there is a significant\n",
        "difference in customer satisfaction scores.\n",
        "\n",
        "\n",
        "  Use the following data:\n",
        "\n",
        "  ```python\n",
        "\n",
        "  # Sample data: Customer satisfaction scores for each product version\n",
        "\n",
        "  standard_scores = [80, 85, 90, 78, 88, 82, 92, 78, 85, 87]\n",
        "\n",
        "  premium_scores = [90, 92, 88, 92, 95, 91, 96, 93, 89, 93]\n",
        "\n",
        "  deluxe_scores = [95, 98, 92, 97, 96, 94, 98, 97, 92, 99]"
      ],
      "metadata": {
        "id": "o_kDST9GGvkj"
      }
    },
    {
      "cell_type": "code",
      "source": [
        "import scipy.stats as stats\n",
        "\n",
        "# Sample data: Customer satisfaction scores for each product version\n",
        "standard_scores = [80, 85, 90, 75, 88, 82, 92, 78, 85, 87]\n",
        "premium_scores = [90, 92, 88, 92, 95, 91, 96, 93, 89, 93]\n",
        "deluxe_scores = [95, 96, 92, 97, 98, 94, 99, 96, 93, 97]\n",
        "\n",
        "# Perform ANOVA test\n",
        "f_statistic, p_value = stats.f_oneway(standard_scores, premium_scores, deluxe_scores)\n",
        "\n",
        "print(f\"F-statistic: {f_statistic}\")\n",
        "print(f\"P-value: {p_value}\")\n",
        "\n",
        "# Interpretation\n",
        "alpha = 0.05  # Significance level\n",
        "if p_value < alpha:\n",
        "    print(\"Reject the null hypothesis: There is a significant difference in customer satisfaction scores among the product versions.\")\n",
        "else:\n",
        "    print(\"Fail to reject the null hypothesis: There is no significant difference in customer satisfaction scores.\")"
      ],
      "metadata": {
        "colab": {
          "base_uri": "https://localhost:8080/"
        },
        "id": "zbLMGTQyHKej",
        "outputId": "08797456-b4fc-4504-a7d0-11d6765b99fa"
      },
      "execution_count": 9,
      "outputs": [
        {
          "output_type": "stream",
          "name": "stdout",
          "text": [
            "F-statistic: 25.422654964344485\n",
            "P-value: 6.191169774178041e-07\n",
            "Reject the null hypothesis: There is a significant difference in customer satisfaction scores among the product versions.\n"
          ]
        }
      ]
    }
  ]
}